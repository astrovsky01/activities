{
 "cells": [
  {
   "cell_type": "code",
   "execution_count": 1,
   "metadata": {},
   "outputs": [],
   "source": [
    "import yaml"
   ]
  },
  {
   "cell_type": "code",
   "execution_count": 2,
   "metadata": {},
   "outputs": [],
   "source": [
    "with open(\"./activities_test.yaml\") as f:\n",
    "    flow = yaml.load(f, Loader=yaml.FullLoader)"
   ]
  },
  {
   "cell_type": "code",
   "execution_count": 3,
   "metadata": {},
   "outputs": [],
   "source": [
    "def step_select(workflow, place):\n",
    "    '''\n",
    "    For steps with multiple possiblities, return just the tools from selected option\n",
    "    '''\n",
    "    options = list(workflow[place])[2:]\n",
    "    for x in options:\n",
    "        print(x + \":\", workflow[place][x][\"description\"])\n",
    "    selection = input(\"Which version of this step would you like to use?\")\n",
    "    return(selection)"
   ]
  },
  {
   "cell_type": "code",
   "execution_count": 4,
   "metadata": {},
   "outputs": [],
   "source": [
    "def flow_parse(workflow):\n",
    "    '''\n",
    "    From activities yaml, returns list of viable tools for each step\n",
    "    '''\n",
    "    steps = {}\n",
    "    for step in list(workflow.keys()):\n",
    "        if workflow[step][\"multi\"] == True:\n",
    "            choice = step_select(workflow, step)        \n",
    "            tools = workflow[step][choice]\n",
    "            tools.pop(\"description\")\n",
    "        else:\n",
    "            tools = workflow[step]\n",
    "            tools.pop(\"multi\")\n",
    "            tools.pop(\"description\")\n",
    "        steps[step] = tools\n",
    "    return(steps)"
   ]
  },
  {
   "cell_type": "code",
   "execution_count": 5,
   "metadata": {},
   "outputs": [],
   "source": [
    "def tool_select(options):\n",
    "    '''\n",
    "    Takes in output from flow_parse() to allow user to select a final tool for each step\n",
    "    Format of final dictionary:\n",
    "    key: step_name\n",
    "    value: galaxy tool_id\n",
    "    '''\n",
    "    final_list = {}\n",
    "    for x in options:\n",
    "        if len(options[x]) > 1:\n",
    "            print(\"There are multiple tool choices for\", x)\n",
    "            for y in options[x]:\n",
    "                print(y, options[x][y][\"description\"])\n",
    "            tool_choice = input(\"Which tool to use?\")\n",
    "            tool_choice = options[x][tool_choice][\"tool_id\"]\n",
    "        else:\n",
    "            tool_choice = \"\".join(list(options[x].keys()))\n",
    "            tool_choice = options[x][tool_choice][\"tool_id\"]\n",
    "        final_list[x] = tool_choice\n",
    "    return(final_list)"
   ]
  },
  {
   "cell_type": "code",
   "execution_count": 6,
   "metadata": {},
   "outputs": [
    {
     "name": "stdout",
     "output_type": "stream",
     "text": [
      "align: TEST123\n",
      "map: TEST345\n",
      "Which version of this step would you like to use?align\n",
      "umap: randomwriting\n",
      "tsne: random2\n",
      "Which version of this step would you like to use?umap\n",
      "There are multiple tool choices for alignmap\n",
      "kallisto qwerty\n",
      "alevin qwerty1\n",
      "Which tool to use?alevin\n"
     ]
    }
   ],
   "source": [
    "test = flow_parse(flow)\n",
    "testing = tool_select(test)"
   ]
  },
  {
   "cell_type": "code",
   "execution_count": 8,
   "metadata": {},
   "outputs": [
    {
     "data": {
      "text/plain": [
       "{'alignmap': 'alevin',\n",
       " 'quant': 'alevin',\n",
       " 'filter': 'scanpy_filter',\n",
       " 'dimredux': 'raceid'}"
      ]
     },
     "execution_count": 8,
     "metadata": {},
     "output_type": "execute_result"
    }
   ],
   "source": [
    "testing"
   ]
  },
  {
   "cell_type": "code",
   "execution_count": 54,
   "metadata": {},
   "outputs": [
    {
     "name": "stdout",
     "output_type": "stream",
     "text": [
      "['asdfasdf', ['align', 'map']]\n"
     ]
    }
   ],
   "source": []
  },
  {
   "cell_type": "code",
   "execution_count": null,
   "metadata": {},
   "outputs": [],
   "source": []
  }
 ],
 "metadata": {
  "kernelspec": {
   "display_name": "Python 3",
   "language": "python",
   "name": "python3"
  },
  "language_info": {
   "codemirror_mode": {
    "name": "ipython",
    "version": 3
   },
   "file_extension": ".py",
   "mimetype": "text/x-python",
   "name": "python",
   "nbconvert_exporter": "python",
   "pygments_lexer": "ipython3",
   "version": "3.7.4"
  }
 },
 "nbformat": 4,
 "nbformat_minor": 2
}
