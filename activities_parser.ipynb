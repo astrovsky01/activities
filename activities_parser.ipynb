{
 "cells": [
  {
   "cell_type": "code",
   "execution_count": 171,
   "metadata": {},
   "outputs": [],
   "source": [
    "import yaml\n",
    "import xmltodict"
   ]
  },
  {
   "cell_type": "code",
   "execution_count": 201,
   "metadata": {},
   "outputs": [],
   "source": [
    "with open(\"./activities_test.yaml\") as f:\n",
    "    flow = yaml.load(f, Loader=yaml.FullLoader)\n",
    "\n",
    "__toolshed_file__ = \"/Users/alexanderostrovsky/Desktop/galaxy/config/integrated_tool_panel.xml\"\n",
    "with open(__toolshed_file__) as f:\n",
    "    tools_have = xmltodict.parse(f.read())\n",
    "tools_have = tools_have[\"toolbox\"]"
   ]
  },
  {
   "cell_type": "code",
   "execution_count": 202,
   "metadata": {},
   "outputs": [],
   "source": [
    "def step_select(workflow, place):\n",
    "    '''\n",
    "    For steps with multiple possiblities, return just the tools from selected option\n",
    "    '''\n",
    "    options = list(workflow[place])[2:]\n",
    "    for x in options:\n",
    "        print(x + \":\", workflow[place][x][\"description\"])\n",
    "    selection = input(\"Which version of this step would you like to use?\")\n",
    "    return(selection)"
   ]
  },
  {
   "cell_type": "code",
   "execution_count": 203,
   "metadata": {},
   "outputs": [],
   "source": [
    "def flow_parse(workflow):\n",
    "    '''\n",
    "    From activities yaml, returns list of viable tools for each step\n",
    "    '''\n",
    "    steps = {}\n",
    "    for step in list(workflow.keys()):\n",
    "        if workflow[step][\"multi\"] == True:\n",
    "            choice = step_select(workflow, step)        \n",
    "            tools = workflow[step][choice]\n",
    "            tools.pop(\"description\")\n",
    "        else:\n",
    "            tools = workflow[step]\n",
    "            tools.pop(\"multi\")\n",
    "            tools.pop(\"description\")\n",
    "        steps[step] = tools\n",
    "    return(steps)"
   ]
  },
  {
   "cell_type": "code",
   "execution_count": 204,
   "metadata": {},
   "outputs": [],
   "source": [
    "def tool_select(options):\n",
    "    '''\n",
    "    Takes in output from flow_parse() to allow user to select a final tool for each step\n",
    "    Format of final dictionary:\n",
    "    key: step_name\n",
    "    value: galaxy tool_id\n",
    "    '''\n",
    "    final_list = {}\n",
    "    for x in options:\n",
    "        if len(options[x]) > 1:\n",
    "            print(\"There are multiple tool choices for\", x)\n",
    "            for y in options[x]:\n",
    "                print(y, options[x][y][\"description\"])\n",
    "            tool_choice = input(\"Which tool to use?\")\n",
    "            tool_choice = options[x][tool_choice][\"tool_id\"]\n",
    "        else:\n",
    "            tool_choice = \"\".join(list(options[x].keys()))\n",
    "            tool_choice = options[x][tool_choice][\"tool_id\"]\n",
    "        final_list[x] = tool_choice\n",
    "    return(final_list)"
   ]
  },
  {
   "cell_type": "code",
   "execution_count": 214,
   "metadata": {},
   "outputs": [],
   "source": [
    "def tools_list(tools_have):\n",
    "    '''\n",
    "    Extract list of currently installed tools against which activity list can be compared\n",
    "    '''\n",
    "    installed = []\n",
    "    for section in tools_have[\"section\"]:\n",
    "        print(section)\n",
    "        print(section[\"tool\"])\n",
    "#         if \"tool\" in list(section):\n",
    "#             for tool in section[\"tool\"]:\n",
    "#                 try:\n",
    "#                     installed.append(str(tool[\"@id\"]))\n",
    "#                 except:\n",
    "#                     try:\n",
    "#                         # Strange parsing error with xmltodict failing on certain sections for no reason\n",
    "#                         installed.append(str(section[\"tool\"][\"@id\"]))\n",
    "#                     except:\n",
    "#                         print(\"parsing failed\")\n",
    "#                         break\n",
    "#     return(installed)"
   ]
  },
  {
   "cell_type": "code",
   "execution_count": 215,
   "metadata": {},
   "outputs": [
    {
     "name": "stdout",
     "output_type": "stream",
     "text": [
      "OrderedDict([('@id', 'getext'), ('@name', 'Get Data'), ('@version', ''), ('tool', [OrderedDict([('@id', 'upload1')]), OrderedDict([('@id', 'ucsc_table_direct1')]), OrderedDict([('@id', 'ucsc_table_direct_archaea1')]), OrderedDict([('@id', 'ebi_sra_main')]), OrderedDict([('@id', 'modENCODEfly')]), OrderedDict([('@id', 'intermine')]), OrderedDict([('@id', 'flymine')]), OrderedDict([('@id', 'modmine')]), OrderedDict([('@id', 'mousemine')]), OrderedDict([('@id', 'ratmine')]), OrderedDict([('@id', 'yeastmine')]), OrderedDict([('@id', 'modENCODEworm')]), OrderedDict([('@id', 'wormbase')]), OrderedDict([('@id', 'zebrafishmine')]), OrderedDict([('@id', 'eupathdb')]), OrderedDict([('@id', 'genomespace_importer')]), OrderedDict([('@id', 'genomespace_push')])])])\n",
      "[OrderedDict([('@id', 'upload1')]), OrderedDict([('@id', 'ucsc_table_direct1')]), OrderedDict([('@id', 'ucsc_table_direct_archaea1')]), OrderedDict([('@id', 'ebi_sra_main')]), OrderedDict([('@id', 'modENCODEfly')]), OrderedDict([('@id', 'intermine')]), OrderedDict([('@id', 'flymine')]), OrderedDict([('@id', 'modmine')]), OrderedDict([('@id', 'mousemine')]), OrderedDict([('@id', 'ratmine')]), OrderedDict([('@id', 'yeastmine')]), OrderedDict([('@id', 'modENCODEworm')]), OrderedDict([('@id', 'wormbase')]), OrderedDict([('@id', 'zebrafishmine')]), OrderedDict([('@id', 'eupathdb')]), OrderedDict([('@id', 'genomespace_importer')]), OrderedDict([('@id', 'genomespace_push')])]\n",
      "OrderedDict([('@id', 'send'), ('@name', 'Send Data'), ('@version', ''), ('tool', [OrderedDict([('@id', 'send_to_cloud')]), OrderedDict([('@id', 'genomespace_exporter')])])])\n",
      "[OrderedDict([('@id', 'send_to_cloud')]), OrderedDict([('@id', 'genomespace_exporter')])]\n",
      "OrderedDict([('@id', 'collection_operations'), ('@name', 'Collection Operations'), ('@version', ''), ('tool', [OrderedDict([('@id', '__UNZIP_COLLECTION__')]), OrderedDict([('@id', '__ZIP_COLLECTION__')]), OrderedDict([('@id', '__FILTER_FAILED_DATASETS__')]), OrderedDict([('@id', '__FLATTEN__')]), OrderedDict([('@id', '__MERGE_COLLECTION__')]), OrderedDict([('@id', '__RELABEL_FROM_FILE__')]), OrderedDict([('@id', '__FILTER_FROM_FILE__')]), OrderedDict([('@id', '__SORTLIST__')]), OrderedDict([('@id', '__APPLY_RULES__')])])])\n",
      "[OrderedDict([('@id', '__UNZIP_COLLECTION__')]), OrderedDict([('@id', '__ZIP_COLLECTION__')]), OrderedDict([('@id', '__FILTER_FAILED_DATASETS__')]), OrderedDict([('@id', '__FLATTEN__')]), OrderedDict([('@id', '__MERGE_COLLECTION__')]), OrderedDict([('@id', '__RELABEL_FROM_FILE__')]), OrderedDict([('@id', '__FILTER_FROM_FILE__')]), OrderedDict([('@id', '__SORTLIST__')]), OrderedDict([('@id', '__APPLY_RULES__')])]\n",
      "OrderedDict([('@id', 'expression_tools'), ('@name', 'Expression Tools'), ('@version', '')])\n"
     ]
    },
    {
     "ename": "KeyError",
     "evalue": "'tool'",
     "output_type": "error",
     "traceback": [
      "\u001b[0;31m---------------------------------------------------------------------------\u001b[0m",
      "\u001b[0;31mKeyError\u001b[0m                                  Traceback (most recent call last)",
      "\u001b[0;32m<ipython-input-215-55c6cc4bf9de>\u001b[0m in \u001b[0;36m<module>\u001b[0;34m\u001b[0m\n\u001b[0;32m----> 1\u001b[0;31m \u001b[0mtools_list\u001b[0m\u001b[0;34m(\u001b[0m\u001b[0mtools_have\u001b[0m\u001b[0;34m)\u001b[0m\u001b[0;34m\u001b[0m\u001b[0;34m\u001b[0m\u001b[0m\n\u001b[0m",
      "\u001b[0;32m<ipython-input-214-f2236830bfc7>\u001b[0m in \u001b[0;36mtools_list\u001b[0;34m(tools_have)\u001b[0m\n\u001b[1;32m      6\u001b[0m     \u001b[0;32mfor\u001b[0m \u001b[0msection\u001b[0m \u001b[0;32min\u001b[0m \u001b[0mtools_have\u001b[0m\u001b[0;34m[\u001b[0m\u001b[0;34m\"section\"\u001b[0m\u001b[0;34m]\u001b[0m\u001b[0;34m:\u001b[0m\u001b[0;34m\u001b[0m\u001b[0;34m\u001b[0m\u001b[0m\n\u001b[1;32m      7\u001b[0m         \u001b[0mprint\u001b[0m\u001b[0;34m(\u001b[0m\u001b[0msection\u001b[0m\u001b[0;34m)\u001b[0m\u001b[0;34m\u001b[0m\u001b[0;34m\u001b[0m\u001b[0m\n\u001b[0;32m----> 8\u001b[0;31m         \u001b[0mprint\u001b[0m\u001b[0;34m(\u001b[0m\u001b[0msection\u001b[0m\u001b[0;34m[\u001b[0m\u001b[0;34m\"tool\"\u001b[0m\u001b[0;34m]\u001b[0m\u001b[0;34m)\u001b[0m\u001b[0;34m\u001b[0m\u001b[0;34m\u001b[0m\u001b[0m\n\u001b[0m\u001b[1;32m      9\u001b[0m \u001b[0;31m#         if \"tool\" in list(section):\u001b[0m\u001b[0;34m\u001b[0m\u001b[0;34m\u001b[0m\u001b[0;34m\u001b[0m\u001b[0m\n\u001b[1;32m     10\u001b[0m \u001b[0;31m#             for tool in section[\"tool\"]:\u001b[0m\u001b[0;34m\u001b[0m\u001b[0;34m\u001b[0m\u001b[0;34m\u001b[0m\u001b[0m\n",
      "\u001b[0;31mKeyError\u001b[0m: 'tool'"
     ]
    }
   ],
   "source": [
    "tools_list(tools_have)"
   ]
  },
  {
   "cell_type": "code",
   "execution_count": 206,
   "metadata": {},
   "outputs": [],
   "source": [
    "def tools_need(flow_file):\n",
    "    '''\n",
    "    List of all possible tool ids from the yaml file\n",
    "    '''\n",
    "    need = []\n",
    "    for step in flow_file:\n",
    "        if flow_file[step][\"multi\"] == True:\n",
    "            versions = list(flow_file[step].keys())[2:]\n",
    "            for version in versions:\n",
    "                for x in flow_file[step][version]:\n",
    "                    if x == \"description\":\n",
    "                        pass\n",
    "                    else:\n",
    "                        need.append(flow_file[step][version][x][\"tool_id\"])\n",
    "        else:\n",
    "            for x in flow_file[step]:\n",
    "                if x == \"description\" or x == \"multi\":\n",
    "                    pass\n",
    "                else:\n",
    "                    need.append(flow_file[step][x][\"tool_id\"])\n",
    "    return(need)"
   ]
  },
  {
   "cell_type": "code",
   "execution_count": 207,
   "metadata": {},
   "outputs": [],
   "source": [
    "def missing(have, need):\n",
    "    '''\n",
    "    Return list of tools not present in toolshed\n",
    "    '''\n",
    "    miss = []\n",
    "    for tool in need:\n",
    "        if tool in have:\n",
    "            pass\n",
    "        else:\n",
    "            miss.append(tool)\n",
    "    return(list(miss))"
   ]
  },
  {
   "cell_type": "code",
   "execution_count": 208,
   "metadata": {},
   "outputs": [],
   "source": [
    "def tool_remove(missing, flow_file):\n",
    "    '''\n",
    "    Removes all tools not installed on the instance from the activities dict and tells user what is not avaliable\n",
    "    '''\n",
    "    remove = []\n",
    "    for step in flow_file:\n",
    "        if flow_file[step][\"multi\"] == True:\n",
    "            versions = list(flow_file[step].keys())[2:]\n",
    "            for version in versions:\n",
    "                for x in flow_file[step][version]:\n",
    "                    if x == \"description\":\n",
    "                        pass\n",
    "                    else:\n",
    "                        if flow_file[step][version][x][\"tool_id\"] in missing:\n",
    "                            print(\"Missing tool:\", x + \". Retrieve from toolshed to make available.\")\n",
    "                            remove.append([step, version, x])\n",
    "        else:\n",
    "            for x in flow_file[step]:\n",
    "                    if x == \"description\" or x == \"multi\":\n",
    "                        pass\n",
    "                    else:\n",
    "                        if flow_file[step][x][\"tool_id\"] in missing:\n",
    "                            print(\"Missing tool:\", x + \". Retrieve from toolshed to make available.\")\n",
    "                            remove.append([step, x])\n",
    "    for tool in remove:\n",
    "        if len(tool) == 3:\n",
    "            del(flow_file[tool[0]][tool[1]][tool[2]])\n",
    "        else:\n",
    "             del(flow_file[tool[0]][tool[1]])\n",
    "    return(flow_file)"
   ]
  },
  {
   "cell_type": "code",
   "execution_count": 209,
   "metadata": {},
   "outputs": [
    {
     "name": "stdout",
     "output_type": "stream",
     "text": [
      "Missing tool: alevin. Retrieve from toolshed to make available.\n",
      "Missing tool: star. Retrieve from toolshed to make available.\n",
      "Missing tool: scanpy. Retrieve from toolshed to make available.\n",
      "Missing tool: RaceID. Retrieve from toolshed to make available.\n",
      "Missing tool: rtsne. Retrieve from toolshed to make available.\n",
      "Missing tool: rtsne. Retrieve from toolshed to make available.\n"
     ]
    },
    {
     "data": {
      "text/plain": [
       "{'alignmap': {'description': 'asdfasdf',\n",
       "  'multi': True,\n",
       "  'align': {'description': 'TEST123',\n",
       "   'kallisto': {'tool_id': 'kallistobus', 'description': 'qwerty'}},\n",
       "  'map': {'description': 'TEST345'}},\n",
       " 'quant': {'description': 'asdfasdf2',\n",
       "  'multi': False,\n",
       "  'alevin': {'tool_id': 'alevin', 'description': 'qwerty3'}},\n",
       " 'filter': {'description': 'asdfasdf3', 'multi': False},\n",
       " 'dimredux': {'description': 'asdfasdf4',\n",
       "  'multi': True,\n",
       "  'umap': {'description': 'randomwriting'},\n",
       "  'tsne': {'description': 'random2'},\n",
       "  'test': {'description': 'random2'}}}"
      ]
     },
     "execution_count": 209,
     "metadata": {},
     "output_type": "execute_result"
    }
   ],
   "source": [
    "flow_all = tools_need(flow)\n",
    "miss = missing(installed, flow_all)\n",
    "tool_remove(miss, flow)"
   ]
  },
  {
   "cell_type": "code",
   "execution_count": 36,
   "metadata": {},
   "outputs": [
    {
     "name": "stdout",
     "output_type": "stream",
     "text": [
      "align: TEST123\n",
      "map: TEST345\n",
      "Which version of this step would you like to use?align\n",
      "umap: randomwriting\n",
      "tsne: random2\n",
      "test: random2\n",
      "Which version of this step would you like to use?umap\n",
      "There are multiple tool choices for alignmap\n",
      "kallisto qwerty\n",
      "alevin qwerty1\n",
      "Which tool to use?kallisto\n"
     ]
    }
   ],
   "source": [
    "test = flow_parse(flow)\n",
    "testing = tool_select(test)\n",
    "installed = tools_list(tools_have)"
   ]
  },
  {
   "cell_type": "code",
   "execution_count": 210,
   "metadata": {},
   "outputs": [
    {
     "data": {
      "text/plain": [
       "{'alignmap': 'kallistobus',\n",
       " 'quant': 'alevin',\n",
       " 'filter': 'scanpy_filter',\n",
       " 'dimredux': 'raceid'}"
      ]
     },
     "execution_count": 210,
     "metadata": {},
     "output_type": "execute_result"
    }
   ],
   "source": [
    "testing"
   ]
  },
  {
   "cell_type": "code",
   "execution_count": null,
   "metadata": {},
   "outputs": [],
   "source": [
    "#Optional?\n",
    "\n",
    "def tool_pull(missing_tools):\n",
    "    '''\n",
    "    Admin option for local instances:\n",
    "    if tools not installed, auto-install all tools in a downloaded activity\n",
    "    '''\n",
    "    "
   ]
  }
 ],
 "metadata": {
  "kernelspec": {
   "display_name": "Python 3",
   "language": "python",
   "name": "python3"
  },
  "language_info": {
   "codemirror_mode": {
    "name": "ipython",
    "version": 3
   },
   "file_extension": ".py",
   "mimetype": "text/x-python",
   "name": "python",
   "nbconvert_exporter": "python",
   "pygments_lexer": "ipython3",
   "version": "3.7.4"
  }
 },
 "nbformat": 4,
 "nbformat_minor": 2
}
